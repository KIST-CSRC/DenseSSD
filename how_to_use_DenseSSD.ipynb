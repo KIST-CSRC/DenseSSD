{
 "cells": [
  {
   "cell_type": "markdown",
   "metadata": {},
   "source": [
    "# How to use DenseSSD? (Education version)\n",
    "\n",
    "With the aim of improving safety in a surveillance-free laboratory, we report a novel deep learning (DL)-based object detector, namely, `DenseSSD`.\n",
    "\n",
    "So, in this notebook, we share how to use our `DenseSSD` and explain more detailed about code."
   ]
  },
  {
   "cell_type": "markdown",
   "metadata": {},
   "source": [
    "## Module import\n",
    "\n",
    "please import as you use in this ipynb notebook. If there is a module that you want to use more, you can import it.\n",
    "\n",
    "- torch (1.7.0)\n",
    "- numpy\n",
    "- os\n",
    "- PIL\n",
    "- natsort\n",
    "- warning"
   ]
  },
  {
   "cell_type": "code",
   "execution_count": null,
   "metadata": {},
   "outputs": [],
   "source": [
    "from PIL import Image\n",
    "from natsort import natsorted\n",
    "import warnings\n",
    "warnings.filterwarnings(\"ignore\", category=DeprecationWarning)\n",
    "warnings.filterwarnings(\"ignore\", category=UserWarning)\n",
    "import os\n",
    "import numpy as np\n",
    "import torch"
   ]
  },
  {
   "cell_type": "markdown",
   "metadata": {},
   "source": [
    "## Our module\n",
    "\n",
    "### 1. config.py\n",
    "\n",
    "config.py include information of executing our code, such as GPU device, path, hyperparameter.\n",
    "\n",
    "[GPU Device]\n",
    "- device = \"cuda:0\"\n",
    "\n",
    "[Path to data dir]\n",
    "- test_sample_image_dir = 'dataset/test_sample'\n",
    "- test_result_image_dir = 'dataset/test_result'\n",
    "- image_dir_train = 'dataset/training_sample/Empty/img'\n",
    "- info_dir_train  = 'dataset/training_sample/Empty/annotation'\n",
    "- train_label     = 'train.txt'\n",
    "- val_label       = 'valid.txt'\n",
    "- model_path = 'pre-trained/model.pth' : set pre-trained model path if we have pre-trained model\n",
    "\n",
    "[Hyper parameters]\n",
    "- image_size = 300 : set our image size\n",
    "- C : input the number of candidates, (ex. C=3, generate 3 candidate boxes of each objects)\n",
    "- batch_size : input batch_size, it depends on researchers\n",
    "- init_lr : input initial learning rate, it depends on num_epochs (if you control steps of lr reduction, please looking for update_lr function in train.py )\n",
    "- weight_decay : input weight_decay, it depends on researchers\n",
    "- num_epochs : input epochs, it depends on researchers\n",
    "\n",
    "### 2. model.py --> denseSSD\n",
    "class denseSSD  \n",
    "├── denseNet  (denseblock)  \n",
    "│   └── Bottleneck  \n",
    "│   └── Transition  \n",
    "│   └── Dimension_Reduction  \n",
    "└── PredictionLayer  \n",
    "\n",
    "`model.py` include the architecture of `DenseSSD` model using pytorch.\n",
    "And those architecture follow our [architecture's image](info/model_architecture.png)"
   ]
  },
  {
   "cell_type": "code",
   "execution_count": null,
   "metadata": {},
   "outputs": [],
   "source": [
    "# import our module\n",
    "import config # config\n",
    "from model.denseSSD import denseSSD # our detection model\n",
    "from train import train # train function\n",
    "from detect import visualize_detection # test function"
   ]
  },
  {
   "cell_type": "markdown",
   "metadata": {},
   "source": [
    "## Model upload\n",
    "After we import all of module that we use, we have 2 types of process that we select.\n",
    "1. Train new model\n",
    "2. Load pre-trained model\n",
    "\n",
    "So, please check your process type and select just only one type."
   ]
  },
  {
   "cell_type": "markdown",
   "metadata": {},
   "source": [
    "### 1. Train new model"
   ]
  },
  {
   "cell_type": "code",
   "execution_count": null,
   "metadata": {},
   "outputs": [],
   "source": [
    "torch.cuda.empty_cache()"
   ]
  },
  {
   "cell_type": "code",
   "execution_count": null,
   "metadata": {},
   "outputs": [],
   "source": [
    "# if you don't have any pre-trained model?\n",
    "print('---------------------------------')\n",
    "print(\"Train new model!\")\n",
    "print('---------------------------------')\n",
    "model = denseSSD(n_classes=config.C)\n",
    "device = torch.device(config.device) # match GPU\n",
    "model.to(device) # allocate our model on GPU\n",
    "train(model, config)"
   ]
  },
  {
   "cell_type": "markdown",
   "metadata": {},
   "source": [
    "### 2. Load pre-trained model"
   ]
  },
  {
   "cell_type": "code",
   "execution_count": null,
   "metadata": {},
   "outputs": [],
   "source": [
    "# if you have pretrained model?\n",
    "print('---------------------------------')\n",
    "print(\"Loading pre-trained model!\")\n",
    "print('---------------------------------')\n",
    "model = denseSSD(n_classes=config.C)\n",
    "model_path = config.model_path\n",
    "model.load_state_dict(torch.load(model_path)) \n",
    "model.to(config.device) # allocate our model on GPU\n",
    "model.eval()"
   ]
  },
  {
   "cell_type": "markdown",
   "metadata": {},
   "source": [
    "## Test a few samples"
   ]
  },
  {
   "cell_type": "code",
   "execution_count": null,
   "metadata": {},
   "outputs": [],
   "source": [
    "print('---------------------------------')\n",
    "print(\"Load testing samples!\")\n",
    "print('---------------------------------')\n",
    "image_dir = config.test_sample_image_dir\n",
    "files = os.listdir(image_dir)\n",
    "files = natsorted(files)"
   ]
  },
  {
   "cell_type": "code",
   "execution_count": null,
   "metadata": {},
   "outputs": [],
   "source": [
    "print('---------------------------------')\n",
    "print(\"Detection begins!\")\n",
    "print('---------------------------------')\n",
    "for file in files:\n",
    "    image_path = os.path.join(image_dir, file)\n",
    "    original_image = Image.open(image_path, mode='r')\n",
    "    original_image = original_image.convert('RGB')\n",
    "\n",
    "    _, objects = visualize_detection(model, original_image, min_score=0.2, max_overlap=0.5, top_k=200,\n",
    "                                        path=config.test_result_image_dir+\"/\"+file)\n",
    "    print(config.test_result_image_dir+\"/\"+file)\n",
    "    print(\"Test scene file - %s: %d vials detected!\" % (file, objects))\n",
    "print(\"\\nTest completed!\\n\")"
   ]
  }
 ],
 "metadata": {
  "kernelspec": {
   "display_name": "Python 3.7.15 ('DenseSSD')",
   "language": "python",
   "name": "python3"
  },
  "language_info": {
   "codemirror_mode": {
    "name": "ipython",
    "version": 3
   },
   "file_extension": ".py",
   "mimetype": "text/x-python",
   "name": "python",
   "nbconvert_exporter": "python",
   "pygments_lexer": "ipython3",
   "version": "3.7.15"
  },
  "orig_nbformat": 4,
  "vscode": {
   "interpreter": {
    "hash": "96cbe3bdab9f6a7f7074cedcb1dfa2cefd0a57efcedf2746eac133d1f627389f"
   }
  }
 },
 "nbformat": 4,
 "nbformat_minor": 2
}
